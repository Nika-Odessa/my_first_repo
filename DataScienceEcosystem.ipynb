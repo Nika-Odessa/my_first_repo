{
 "cells": [
  {
   "cell_type": "markdown",
   "id": "b8e07ef2-db51-4dba-807e-9e63a83196fc",
   "metadata": {},
   "source": [
    "# Data Science Tools and Ecosystem"
   ]
  },
  {
   "cell_type": "markdown",
   "id": "08a514aa-82aa-4a2c-b46f-616f65c92139",
   "metadata": {},
   "source": [
    "##### In this notebook, Data Science Tools and Ecosystem are summarized."
   ]
  },
  {
   "cell_type": "markdown",
   "id": "8dc9b093-7ec4-42b2-aa2a-32e8122ef9ea",
   "metadata": {},
   "source": [
    "## **Objectievs**\n",
    "- list of popular languages for Data Science\n",
    "- popula open sourse tools\n",
    "- examples of arithmetic expression in Python\n",
    "- formatting markdowns in Jupyter Notebook"
   ]
  },
  {
   "cell_type": "markdown",
   "id": "3c4664b6-c115-4bf0-ba9f-6c1d2e47e239",
   "metadata": {},
   "source": [
    "__Some of the popular languages that Data Scientists use are:__\n",
    "1. Python\n",
    "2. R\n",
    "3. SQL\n",
    "4. C++\n",
    "5. Java"
   ]
  },
  {
   "cell_type": "markdown",
   "id": "2b263f31-c5c6-4700-9346-3d6973c224bd",
   "metadata": {},
   "source": [
    "**Some of the commonly used libraries used by Data Scientists include:**\n",
    "1. Pandas\n",
    "2. NumPy\n",
    "3. Matplotlib\n",
    "4. Seaborn\n",
    "5. Keras"
   ]
  },
  {
   "cell_type": "markdown",
   "id": "149b9018-2aef-4632-ba79-eaebf8dddc9f",
   "metadata": {},
   "source": [
    "\n",
    "|       Data Science Tools     |\n",
    "| -----------------------------|\n",
    "| Jupyter                      |\n",
    "| R Studio                     |\n",
    "|  Spyder                      |\n"
   ]
  },
  {
   "cell_type": "markdown",
   "id": "d3244761-35ea-49c4-88ae-dbca56ced9fe",
   "metadata": {},
   "source": [
    "### Below are a few examples of evaluating arithmetic expressions in Python"
   ]
  },
  {
   "cell_type": "code",
   "execution_count": 2,
   "id": "050686c0-06c3-4cd5-9233-e840b32c91a5",
   "metadata": {},
   "outputs": [
    {
     "data": {
      "text/plain": [
       "17"
      ]
     },
     "execution_count": 2,
     "metadata": {},
     "output_type": "execute_result"
    }
   ],
   "source": [
    "# This a simple arithmetic expression to mutiply then add integers\n",
    "(3*4)+5"
   ]
  },
  {
   "cell_type": "code",
   "execution_count": 5,
   "id": "61d1dc2e-311a-4b4e-be9a-4ad23a1354d4",
   "metadata": {},
   "outputs": [
    {
     "name": "stdout",
     "output_type": "stream",
     "text": [
      "200 minutes is 3.33 hours\n"
     ]
    }
   ],
   "source": [
    "# This will convert 200 minutes to hours by diving by 60\n",
    "h = 200/60\n",
    "print(\"200 minutes is\", round(h, 2), \"hours\")"
   ]
  },
  {
   "cell_type": "markdown",
   "id": "cec21353-c9bd-442c-bac4-7410eb682b3d",
   "metadata": {},
   "source": [
    "## Author\n",
    "Anna Shlyakhova"
   ]
  },
  {
   "cell_type": "code",
   "execution_count": null,
   "id": "63a92e50-43fb-4885-8ba2-96054b63c8ae",
   "metadata": {},
   "outputs": [],
   "source": []
  }
 ],
 "metadata": {
  "kernelspec": {
   "display_name": "Python 3 (ipykernel)",
   "language": "python",
   "name": "python3"
  },
  "language_info": {
   "codemirror_mode": {
    "name": "ipython",
    "version": 3
   },
   "file_extension": ".py",
   "mimetype": "text/x-python",
   "name": "python",
   "nbconvert_exporter": "python",
   "pygments_lexer": "ipython3",
   "version": "3.11.9"
  }
 },
 "nbformat": 4,
 "nbformat_minor": 5
}
